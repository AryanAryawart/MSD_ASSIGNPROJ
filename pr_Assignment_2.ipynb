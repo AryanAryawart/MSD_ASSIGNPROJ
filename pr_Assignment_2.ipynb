{
 "cells": [
  {
   "cell_type": "markdown",
   "id": "dc2e79a5-346a-4786-ab49-77364bac23bc",
   "metadata": {},
   "source": [
    "Ques1: Write a Python program to convert kilometers to miles?\n",
    "\n",
    "Ans:\n"
   ]
  },
  {
   "cell_type": "code",
   "execution_count": 2,
   "id": "34a5fc68-1b6f-4d37-a5d2-a6ba5c0501a3",
   "metadata": {},
   "outputs": [
    {
     "name": "stdin",
     "output_type": "stream",
     "text": [
      "Enter the number in Kilometre :  45\n"
     ]
    },
    {
     "name": "stdout",
     "output_type": "stream",
     "text": [
      "conversion of  45 into Miles is 27.961695\n"
     ]
    }
   ],
   "source": [
    "#conversion of km into miles\n",
    "num_in_km = int(input(\"Enter the number in Kilometre : \"))\n",
    "miles  = 0.621371 * num_in_km\n",
    "print(f\"conversion of  {num_in_km} into Miles is { miles}\")"
   ]
  },
  {
   "cell_type": "markdown",
   "id": "f68366d6-bda7-4919-a2b5-c814983bfcf5",
   "metadata": {},
   "source": [
    "Ques2: Write a Python program to convert Celsius to Fahrenheit?\n",
    "\n",
    "Ans: "
   ]
  },
  {
   "cell_type": "code",
   "execution_count": 7,
   "id": "9346357c-791c-4d51-9830-243b36c7ee61",
   "metadata": {},
   "outputs": [
    {
     "name": "stdin",
     "output_type": "stream",
     "text": [
      "Enter the Temperature in celcius :  45\n"
     ]
    },
    {
     "name": "stdout",
     "output_type": "stream",
     "text": [
      "conversion of 45.0C into fahrenheit is 113.0\n"
     ]
    }
   ],
   "source": [
    "celcius = float(input(\"Enter the Temperature in celcius : \"))\n",
    "Fahrenheit = celcius*9/5 + 32\n",
    "print(f'conversion of {celcius}C into fahrenheit is {Fahrenheit}')"
   ]
  },
  {
   "cell_type": "markdown",
   "id": "7cfe6d4a-ca85-4c5f-be2d-a8594e38028b",
   "metadata": {},
   "source": [
    "Ques3: Write a Python program to display calendar?\n",
    "\n",
    "Ans: "
   ]
  },
  {
   "cell_type": "code",
   "execution_count": 3,
   "id": "4e3eada3-33d2-4057-aa0d-168d47a6de77",
   "metadata": {},
   "outputs": [
    {
     "name": "stdin",
     "output_type": "stream",
     "text": [
      "Enter Year :  2024\n"
     ]
    },
    {
     "name": "stdout",
     "output_type": "stream",
     "text": [
      "                                  2024\n",
      "\n",
      "      January                   February                   March\n",
      "Mo Tu We Th Fr Sa Su      Mo Tu We Th Fr Sa Su      Mo Tu We Th Fr Sa Su\n",
      " 1  2  3  4  5  6  7                1  2  3  4                   1  2  3\n",
      " 8  9 10 11 12 13 14       5  6  7  8  9 10 11       4  5  6  7  8  9 10\n",
      "15 16 17 18 19 20 21      12 13 14 15 16 17 18      11 12 13 14 15 16 17\n",
      "22 23 24 25 26 27 28      19 20 21 22 23 24 25      18 19 20 21 22 23 24\n",
      "29 30 31                  26 27 28 29               25 26 27 28 29 30 31\n",
      "\n",
      "       April                      May                       June\n",
      "Mo Tu We Th Fr Sa Su      Mo Tu We Th Fr Sa Su      Mo Tu We Th Fr Sa Su\n",
      " 1  2  3  4  5  6  7             1  2  3  4  5                      1  2\n",
      " 8  9 10 11 12 13 14       6  7  8  9 10 11 12       3  4  5  6  7  8  9\n",
      "15 16 17 18 19 20 21      13 14 15 16 17 18 19      10 11 12 13 14 15 16\n",
      "22 23 24 25 26 27 28      20 21 22 23 24 25 26      17 18 19 20 21 22 23\n",
      "29 30                     27 28 29 30 31            24 25 26 27 28 29 30\n",
      "\n",
      "        July                     August                  September\n",
      "Mo Tu We Th Fr Sa Su      Mo Tu We Th Fr Sa Su      Mo Tu We Th Fr Sa Su\n",
      " 1  2  3  4  5  6  7                1  2  3  4                         1\n",
      " 8  9 10 11 12 13 14       5  6  7  8  9 10 11       2  3  4  5  6  7  8\n",
      "15 16 17 18 19 20 21      12 13 14 15 16 17 18       9 10 11 12 13 14 15\n",
      "22 23 24 25 26 27 28      19 20 21 22 23 24 25      16 17 18 19 20 21 22\n",
      "29 30 31                  26 27 28 29 30 31         23 24 25 26 27 28 29\n",
      "                                                    30\n",
      "\n",
      "      October                   November                  December\n",
      "Mo Tu We Th Fr Sa Su      Mo Tu We Th Fr Sa Su      Mo Tu We Th Fr Sa Su\n",
      "    1  2  3  4  5  6                   1  2  3                         1\n",
      " 7  8  9 10 11 12 13       4  5  6  7  8  9 10       2  3  4  5  6  7  8\n",
      "14 15 16 17 18 19 20      11 12 13 14 15 16 17       9 10 11 12 13 14 15\n",
      "21 22 23 24 25 26 27      18 19 20 21 22 23 24      16 17 18 19 20 21 22\n",
      "28 29 30 31               25 26 27 28 29 30         23 24 25 26 27 28 29\n",
      "                                                    30 31\n",
      "\n"
     ]
    }
   ],
   "source": [
    "import calendar\n",
    "years = int(input(\"Enter Year : \"))\n",
    "print(calendar.calendar(years))"
   ]
  },
  {
   "cell_type": "markdown",
   "id": "b1a7b9b0-e0e6-4bdd-abd2-750b34d2e0fc",
   "metadata": {},
   "source": [
    "Ques4: Write a Python program to solve quadratic equation?\n",
    "\n",
    "Ans: "
   ]
  },
  {
   "cell_type": "code",
   "execution_count": 8,
   "id": "0ffa3b0e-c2a2-43c6-becc-a52feade6993",
   "metadata": {},
   "outputs": [
    {
     "name": "stdin",
     "output_type": "stream",
     "text": [
      "Enter a (non-zero):  4\n",
      "Enter b:  5\n",
      "Enter c:  6\n"
     ]
    },
    {
     "name": "stdout",
     "output_type": "stream",
     "text": [
      "Roots are: (-0.625+1.0532687216470449j) and (-0.625-1.0532687216470449j)\n"
     ]
    }
   ],
   "source": [
    "import cmath  # to handle square roots of negative numbers\n",
    "\n",
    "# Get coefficients from the user\n",
    "a = float(input(\"Enter a (non-zero): \"))\n",
    "b = float(input(\"Enter b: \"))\n",
    "c = float(input(\"Enter c: \"))\n",
    "\n",
    "# Calculate the discriminant\n",
    "D = b**2 - 4*a*c\n",
    "\n",
    "# Compute the two roots using the quadratic formula\n",
    "root1 = (-b + cmath.sqrt(D)) / (2*a)\n",
    "root2 = (-b - cmath.sqrt(D)) / (2*a)\n",
    "\n",
    "print(\"Roots are:\", root1, \"and\", root2)\n"
   ]
  },
  {
   "cell_type": "markdown",
   "id": "19589425-7d0c-4080-8410-c2200de2697e",
   "metadata": {},
   "source": [
    "Ques5: Write a Python program to swap two variables without temp variable?\n",
    "\n",
    "Ans:"
   ]
  },
  {
   "cell_type": "code",
   "execution_count": 15,
   "id": "526dfc11-75cf-42ec-9cac-f11ab72e7aeb",
   "metadata": {},
   "outputs": [
    {
     "name": "stdout",
     "output_type": "stream",
     "text": [
      "5\n",
      "4\n"
     ]
    }
   ],
   "source": [
    "a=4\n",
    "b=5\n",
    "a=a+b\n",
    "b=a-b\n",
    "a=a-b\n",
    "print(a)\n",
    "print(b)"
   ]
  },
  {
   "cell_type": "code",
   "execution_count": null,
   "id": "12de3b51-e674-4c29-95d4-4761f23e088e",
   "metadata": {},
   "outputs": [],
   "source": []
  }
 ],
 "metadata": {
  "kernelspec": {
   "display_name": "Python [conda env:base] *",
   "language": "python",
   "name": "conda-base-py"
  },
  "language_info": {
   "codemirror_mode": {
    "name": "ipython",
    "version": 3
   },
   "file_extension": ".py",
   "mimetype": "text/x-python",
   "name": "python",
   "nbconvert_exporter": "python",
   "pygments_lexer": "ipython3",
   "version": "3.12.7"
  }
 },
 "nbformat": 4,
 "nbformat_minor": 5
}
