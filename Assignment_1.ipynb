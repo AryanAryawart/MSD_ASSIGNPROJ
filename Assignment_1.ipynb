{
 "cells": [
  {
   "cell_type": "raw",
   "id": "276aa938-a502-45ec-a6f4-2e1ac07a9b2b",
   "metadata": {},
   "source": [
    "Ques1:   1. In the below elements which of them are values or an expression? eg:- values can be\n",
    "integer or string and expressions will be mathematical operators.\n",
    "*\n",
    "'hello'\n",
    "-87.8\n",
    "-\n",
    "/\n",
    "+\n",
    "6\n",
    "\n",
    "\n",
    "Answer1- \n",
    "\n",
    "values = 'hello' , -87.8 , 6 \n",
    "expression = * , - , / , + "
   ]
  },
  {
   "cell_type": "raw",
   "id": "46708c74-59d9-4ccf-a7c4-42ae4e861036",
   "metadata": {},
   "source": [
    "Ques2: 2. What is the difference between string and variable?\n",
    "Ans- String: it is a data type that represents a sequence of characters.  E.g. \"digvijay\"  , '3'\n",
    "     Variable: variable is named storage location that holds some type of data  E.g. a=2 \n",
    "                "
   ]
  },
  {
   "cell_type": "raw",
   "id": "3f29fd9c-7656-4b9a-a52a-1980ee7c7d49",
   "metadata": {},
   "source": [
    "Ques3:Describe three different data types.\n",
    "Ans: - Integer  e.g. 2 , 3 , -4\n",
    "     - Float    e.g. 2.4 \n",
    "     - String    e.g. \" chirag\"\n",
    "     - boolean    e.g. True/False"
   ]
  },
  {
   "cell_type": "raw",
   "id": "16c19d2f-68f9-4612-bde1-4311f9c1d055",
   "metadata": {},
   "source": [
    "Ques4:  What is an expression made up of? What do all expressions do?\n",
    "Ans:    An expression is a combination of constants, variables, and operators that evaluates to a single value"
   ]
  },
  {
   "cell_type": "raw",
   "id": "de34d941-ab00-48be-933c-29eb7144e53f",
   "metadata": {},
   "source": [
    "Ques5: This assignment statements, like spam = 10. What is the difference between an\n",
    "expression and a statement?\n",
    "\n",
    "Ans: A statement is a line of code that performs an action.\n",
    "   : Expression are the operators"
   ]
  },
  {
   "cell_type": "raw",
   "id": "64099571-1182-4f64-a5f9-7dea4093b220",
   "metadata": {},
   "source": [
    "Ques6: After running the following code, what does the variable bacon contain?\n",
    "bacon = 22\n",
    "bacon + 1\n",
    "\n",
    "ans: 22"
   ]
  },
  {
   "cell_type": "raw",
   "id": "84ccb263-965d-456a-951a-599555a17cff",
   "metadata": {},
   "source": [
    "Ques7: What should the values of the following two terms be?\n",
    "                   'spam'+'spamspam'\n",
    "                  'spam' * 3\n",
    "\n",
    "Ans: 'spam'+'spamspam'  gives 'spamspamspam'\n",
    "     'spam'*3 =  'spamspamspam'\n"
   ]
  },
  {
   "cell_type": "raw",
   "id": "59592f13-847b-4348-a82b-1e54d3ba97e9",
   "metadata": {},
   "source": [
    "Ques8: Why is eggs a valid variable name while 100 is invalid?\n",
    "Ans: Eggs is a valid variable name because it starts with a string or character while 100 is not a valid variable name beacause variable name can't start with number"
   ]
  },
  {
   "cell_type": "raw",
   "id": "47e6e61c-0e30-4171-afb4-ef7d18ad4645",
   "metadata": {},
   "source": [
    "Ques9: 9. What three functions can be used to get the integer, floating-point number, or string\n",
    "version of a value?\n",
    "\n",
    "Ans: int()\n",
    "    float()\n",
    "    str()"
   ]
  },
  {
   "cell_type": "raw",
   "id": "def0bfc8-a4ad-4e7d-af2f-e03f00cc908a",
   "metadata": {},
   "source": [
    "10. Why does this expression cause an error? How can you fix it?\n",
    "'I have eaten ' + 99 + 'burritos'\n",
    "\n",
    "Ans- this errors happens because string and integer can't be add and if we convert 99 into string after that can add  i will show you practically"
   ]
  },
  {
   "cell_type": "code",
   "execution_count": 11,
   "id": "1e08dd16-d5eb-47b0-854d-099dc174f920",
   "metadata": {},
   "outputs": [
    {
     "data": {
      "text/plain": [
       "'I have eaten 99burritos'"
      ]
     },
     "execution_count": 11,
     "metadata": {},
     "output_type": "execute_result"
    }
   ],
   "source": [
    "'I have eaten ' + '99' + 'burritos'"
   ]
  },
  {
   "cell_type": "code",
   "execution_count": null,
   "id": "987a0e25-a9ef-4134-90e2-04d851514d7a",
   "metadata": {},
   "outputs": [],
   "source": []
  }
 ],
 "metadata": {
  "kernelspec": {
   "display_name": "Python [conda env:base] *",
   "language": "python",
   "name": "conda-base-py"
  },
  "language_info": {
   "codemirror_mode": {
    "name": "ipython",
    "version": 3
   },
   "file_extension": ".py",
   "mimetype": "text/x-python",
   "name": "python",
   "nbconvert_exporter": "python",
   "pygments_lexer": "ipython3",
   "version": "3.12.7"
  }
 },
 "nbformat": 4,
 "nbformat_minor": 5
}
