{
 "cells": [
  {
   "cell_type": "code",
   "execution_count": null,
   "id": "ab662a4a-7355-4c8c-9375-bb58115f5047",
   "metadata": {},
   "outputs": [],
   "source": [
    "Ques1:   1. In the below elements which of them are values or an expression? eg:- values can be\n",
    "integer or string and expressions will be mathematical operators.\n",
    "*\n",
    "'hello'\n",
    "-87.8 \n",
    "-\n",
    "/\n",
    "+\n",
    "6\n",
    "\n",
    "\n",
    "Answer1- \n",
    "\n",
    "values = 'hello' , -87.8 , 6 \n",
    "expression = * , - , / , +        \n",
    "\n",
    "\n"
   ]
  },
  {
   "cell_type": "code",
   "execution_count": null,
   "id": "bd4ac722-af69-49a3-8e16-b979e41ebaec",
   "metadata": {},
   "outputs": [],
   "source": [
    "Ques2: 2. What is the difference between string and variable?\n",
    "Ans- String: it is a data type that represents a sequence of characters.  E.g. \"digvijay\"  , '3'\n",
    "     Variable: variable is named storage location that holds some type of data  E.g. a=2 \n",
    "                "
   ]
  },
  {
   "cell_type": "code",
   "execution_count": null,
   "id": "802f474d-b25a-474c-9e35-0766d91c3543",
   "metadata": {},
   "outputs": [],
   "source": [
    "Ques3:Describe three different data types.\n",
    "Ans: - Integer  e.g. 2 , 3 , -4\n",
    "     - Float    e.g. 2.4 \n",
    "     - String    e.g. \" chirag\"\n",
    "     - boolean    e.g. True/False"
   ]
  },
  {
   "cell_type": "code",
   "execution_count": null,
   "id": "bfff1a52-384b-4d20-9d0d-1e4ac229f911",
   "metadata": {},
   "outputs": [],
   "source": [
    "Ques4:  What is an expression made up of? What do all expressions do?\n",
    "Ans:    An expression is a combination of constants, variables, and operators that evaluates to a single value"
   ]
  },
  {
   "cell_type": "code",
   "execution_count": null,
   "id": "aecc5003-182b-4dbe-8d2a-afeeade96f8e",
   "metadata": {},
   "outputs": [],
   "source": [
    "Ques5: This assignment statements, like spam = 10. What is the difference between an\n",
    "expression and a statement?\n",
    "\n",
    "Ans: A statement is a line of code that performs an action.\n",
    "   : Expression are the operators"
   ]
  },
  {
   "cell_type": "code",
   "execution_count": null,
   "id": "355111be-a6b9-4a20-9953-08231f7c553e",
   "metadata": {},
   "outputs": [],
   "source": [
    "Ques6: After running the following code, what does the variable bacon contain?\n",
    "bacon = 22\n",
    "bacon + 1\n",
    "\n",
    "ans: 22"
   ]
  },
  {
   "cell_type": "code",
   "execution_count": null,
   "id": "76775dea-d5af-474c-97ce-d104d73b9839",
   "metadata": {},
   "outputs": [],
   "source": [
    "Ques7: What should the values of the following two terms be?\n",
    "                   'spam'+'spamspam'\n",
    "                  'spam' * 3\n",
    "\n",
    "Ans: 'spam'+'spamspam'  gives 'spamspamspam'\n",
    "     'spam'*3 =  'spamspamspam'\n"
   ]
  },
  {
   "cell_type": "code",
   "execution_count": null,
   "id": "931af1a8-e92e-47a0-b200-a88a92bf6495",
   "metadata": {},
   "outputs": [],
   "source": [
    "Ques8: Why is eggs a valid variable name while 100 is invalid?\n",
    "Ans: Eggs is a valid variable name because it starts with a string or character while 100 is not a valid variable name beacause variable name can't start with number"
   ]
  },
  {
   "cell_type": "code",
   "execution_count": null,
   "id": "115fa385-2c32-48df-818e-718aefcdaaf9",
   "metadata": {},
   "outputs": [],
   "source": [
    "Ques9: 9. What three functions can be used to get the integer, floating-point number, or string\n",
    "version of a value?\n",
    "\n",
    "Ans: int()\n",
    "    float()\n",
    "    str()"
   ]
  },
  {
   "cell_type": "code",
   "execution_count": null,
   "id": "95214e43-0dec-4f56-9e3e-49cb42e53772",
   "metadata": {},
   "outputs": [],
   "source": [
    "10. Why does this expression cause an error? How can you fix it?\n",
    "'I have eaten ' + 99 + 'burritos'\n",
    "\n",
    "Ans- this errors happens because string and integer can't be add and if we convert 99 into string after that can add  i will show you practically"
   ]
  },
  {
   "cell_type": "code",
   "execution_count": 11,
   "id": "1e08dd16-d5eb-47b0-854d-099dc174f920",
   "metadata": {},
   "outputs": [
    {
     "data": {
      "text/plain": [
       "'I have eaten 99burritos'"
      ]
     },
     "execution_count": 11,
     "metadata": {},
     "output_type": "execute_result"
    }
   ],
   "source": [
    "'I have eaten ' + '99' + 'burritos'"
   ]
  },
  {
   "cell_type": "code",
   "execution_count": null,
   "id": "987a0e25-a9ef-4134-90e2-04d851514d7a",
   "metadata": {},
   "outputs": [],
   "source": []
  }
 ],
 "metadata": {
  "kernelspec": {
   "display_name": "Python [conda env:base] *",
   "language": "python",
   "name": "conda-base-py"
  },
  "language_info": {
   "codemirror_mode": {
    "name": "ipython",
    "version": 3
   },
   "file_extension": ".py",
   "mimetype": "text/x-python",
   "name": "python",
   "nbconvert_exporter": "python",
   "pygments_lexer": "ipython3",
   "version": "3.12.7"
  }
 },
 "nbformat": 4,
 "nbformat_minor": 5
}
