{
 "cells": [
  {
   "cell_type": "markdown",
   "id": "4feca511-efd1-4285-8733-4c98518665c0",
   "metadata": {},
   "source": [
    "Ques1: What are the two values of the Boolean data type? How do you write them?\n"
   ]
  },
  {
   "cell_type": "markdown",
   "id": "6bd5138e-a904-4ecf-a7ef-185647abce18",
   "metadata": {},
   "source": [
    "Ans: True , False"
   ]
  },
  {
   "cell_type": "code",
   "execution_count": 11,
   "id": "ebb6c67e-ff41-4fcb-ac19-b8668fe296fd",
   "metadata": {},
   "outputs": [
    {
     "name": "stdout",
     "output_type": "stream",
     "text": [
      "False\n"
     ]
    }
   ],
   "source": [
    "print (bool(0))"
   ]
  },
  {
   "cell_type": "code",
   "execution_count": 13,
   "id": "0a7fa0d4-109c-4b51-885e-0d1782584686",
   "metadata": {},
   "outputs": [
    {
     "name": "stdout",
     "output_type": "stream",
     "text": [
      "True\n"
     ]
    }
   ],
   "source": [
    "print(bool(1))"
   ]
  },
  {
   "cell_type": "markdown",
   "id": "72d7f60c-afe5-444c-9cb0-f66f60804a49",
   "metadata": {},
   "source": [
    "Ques2:  What are the three different types of Boolean operators?\n",
    "\n",
    "Ans: 1. And\n",
    "\n",
    "     2. Or\n",
    "     \n",
    "     3.Not"
   ]
  },
  {
   "cell_type": "markdown",
   "id": "54bfd631-4c25-42ec-b1f5-e9c49ba21d49",
   "metadata": {},
   "source": [
    "Ques3:  Make a list of each Boolean operator  truth tables (i.e. every possible combination of Boolean\n",
    "values for the operator and what it evaluate .\n",
    "\n",
    "Ans:  \n",
    "\n",
    "| A     | B     | A and B |\n",
    "| ----- | ----- | ------- |\n",
    "| False | False | False   |\n",
    "| False | True  | False   |\n",
    "| True  | False | False   |\n",
    "| True  | True  | True    |\n",
    "\n",
    "\n",
    "\n",
    "\n",
    "\n",
    "| A     | B     | A or B |\n",
    "| ----- | ----- | ------ |\n",
    "| False | False | False  |\n",
    "| False | True  | True   |\n",
    "| True  | False | True   |\n",
    "| True  | True  | True   |\n",
    "\n",
    "\n",
    "\n",
    "\n",
    "\n",
    "| A     | not A |\n",
    "| ----- | ----- |\n",
    "| False | True  |\n",
    "| True  | False |\n",
    "\n",
    "\n",
    "\n",
    "\n",
    "\n"
   ]
  },
  {
   "cell_type": "markdown",
   "id": "9c16c7cc-8db1-44ee-98da-abfcca7c98d2",
   "metadata": {},
   "source": [
    "Ques4:  4. What are the values of the following expressions?\n",
    "i-(5 &gt; 4) and (3 == 5)\n",
    "\n",
    "ii-not (5 &gt; 4)\n",
    "\n",
    "iii-(5 &gt; 4) or (3 == 5)\n",
    "\n",
    "iv-not ((5 &gt; 4) or (3 == 5))\n",
    "\n",
    "v-(True and True) and (True == False)\n",
    "\n",
    "vi-(not False) or (not True)\n",
    "\n",
    "Ans:\n",
    "\n",
    "i-   False\n",
    "\n",
    "ii-  False\n",
    "\n",
    "iii-  True\n",
    "\n",
    "iv-   False\n",
    "\n",
    "v-  False\n",
    "\n",
    "vi-  True"
   ]
  },
  {
   "cell_type": "markdown",
   "id": "18e25518-bda5-479f-b739-806066e98b52",
   "metadata": {},
   "source": [
    "Ques5:  What are the six comparison operators?\n",
    "\n",
    "Ans: \n",
    "\n",
    "i- Greater than equal to (>=)\n",
    "\n",
    "ii- Less than equal to (<=)\n",
    "\n",
    "iii- Greater than (>)\n",
    "\n",
    "iv- Less than(<)\n",
    "\n",
    "v- not equal to (!=)\n",
    "\n",
    "vi- equal to (==)"
   ]
  },
  {
   "cell_type": "markdown",
   "id": "fc9ce9b4-6771-4577-979e-88d5d571e286",
   "metadata": {},
   "source": [
    "Ques6:  How do you tell the difference between the equal to and assignment operators?Describe a\n",
    "condition and when you would use one.\n",
    "\n",
    "Ans:"
   ]
  },
  {
   "cell_type": "markdown",
   "id": "5e4940aa-9329-49a1-a793-52060ffc8551",
   "metadata": {},
   "source": [
    "- Equal to (==) is use to compare the values"
   ]
  },
  {
   "cell_type": "code",
   "execution_count": 17,
   "id": "33654d9b-7dfa-43aa-9a48-f0c1ba6daf52",
   "metadata": {},
   "outputs": [
    {
     "data": {
      "text/plain": [
       "False"
      ]
     },
     "execution_count": 17,
     "metadata": {},
     "output_type": "execute_result"
    }
   ],
   "source": [
    "#e.g.\n",
    "\n",
    "a=4       # here we assign int 4 to vairable a\n",
    "b=5       # here we assign int 5 to vairable b\n",
    "a==b      # here we comparing the values or variable"
   ]
  },
  {
   "cell_type": "markdown",
   "id": "77485d9d-9372-48a8-b22b-c7796c81f6d4",
   "metadata": {},
   "source": [
    "Ques7: Identify the three blocks in this code:\n",
    "\n",
    "spam = 0\n",
    "\n",
    "\n",
    "if spam == 10:\n",
    "    print('eggs')\n",
    "    \n",
    "\n",
    "    \n",
    "if spam > 5:\n",
    "    print('bacon')\n",
    "    \n",
    "else:\n",
    "    print('ham')\n",
    "\n",
    "\n",
    "\n",
    "print('spam')\n",
    "print('spam')"
   ]
  },
  {
   "cell_type": "markdown",
   "id": "2bdaa9df-e560-448e-aa11-99e05730aff6",
   "metadata": {},
   "source": [
    "Ans7: \n",
    "\n",
    "- Block 1 prints nothing because the condition is not true\n",
    "- Block 2 prints 'ham'\n",
    "- Block 3 prints  'spam'\n",
    "  \n",
    "                 'spam'"
   ]
  },
  {
   "cell_type": "markdown",
   "id": "b89624b7-ddbe-4812-85ff-f06c914b3f05",
   "metadata": {},
   "source": [
    "Ques8:  Write code that prints Hello if 1 is stored in spam, prints Howdy if 2 is stored in spam, and prints\n",
    "Greetings! if anything else is stored in spam."
   ]
  },
  {
   "cell_type": "code",
   "execution_count": 50,
   "id": "5a2b7167-83c6-479b-b827-ae015606e933",
   "metadata": {},
   "outputs": [
    {
     "name": "stdin",
     "output_type": "stream",
     "text": [
      "Enter the Spam numb :  2\n"
     ]
    },
    {
     "name": "stdout",
     "output_type": "stream",
     "text": [
      "Howdy\n"
     ]
    }
   ],
   "source": [
    "spam = int(input(\"Enter the Spam numb : \"))\n",
    "if spam == 1 :\n",
    "     print(\"Hello\")\n",
    "elif spam == 2:\n",
    "    print(\"Howdy\")\n",
    "else:\n",
    "    print(\"Greetings!\")\n",
    "           \n",
    "   "
   ]
  },
  {
   "cell_type": "markdown",
   "id": "d9800968-affa-4e61-a8cc-9a572880c924",
   "metadata": {},
   "source": [
    "Ques9: If your programme is stuck in an endless loop, what keys you’ll press?\n",
    "\n",
    "Ans:  \n",
    "\n",
    "Ctrl + C"
   ]
  },
  {
   "cell_type": "markdown",
   "id": "0d5a199c-3d7d-4d8f-80f9-801a1e77ee38",
   "metadata": {},
   "source": [
    "Ques10: How can you tell the difference between break and continue?\n",
    "\n",
    "Ans: \n",
    "\n",
    "Break: it completely stops the loop;  \n",
    "\n",
    "e.g.   you are searching for a pen in your bag as soon as you find the pen you stops\n",
    "\n",
    "Continue:  It skips just that iteration and moves to the next one.\n",
    "\n",
    "example:\n",
    "You're reading 10 pages of a book but skip any page that is blank."
   ]
  },
  {
   "cell_type": "markdown",
   "id": "add6c411-35e4-4c3d-a20b-08087f792807",
   "metadata": {},
   "source": [
    "Ques11:  In a for loop, what is the difference between range(10), range(0, 10), and range(0, 10, 1)?\n",
    "\n",
    "ans:"
   ]
  },
  {
   "cell_type": "code",
   "execution_count": 20,
   "id": "2d20b991-b111-4dbc-b5fb-a996d992efcb",
   "metadata": {},
   "outputs": [
    {
     "name": "stdout",
     "output_type": "stream",
     "text": [
      "0\n",
      "1\n",
      "2\n",
      "3\n",
      "4\n",
      "5\n",
      "6\n",
      "7\n",
      "8\n",
      "9\n"
     ]
    }
   ],
   "source": [
    "for i in range(10):         #range(10) prints numbers 0-9 without including 10\n",
    "    print(i)                 # it cinsiders it starting point own itself from zero"
   ]
  },
  {
   "cell_type": "code",
   "execution_count": 22,
   "id": "96b666fd-8b3c-4a54-b6b8-b1fa908b66da",
   "metadata": {},
   "outputs": [
    {
     "name": "stdout",
     "output_type": "stream",
     "text": [
      "0\n",
      "1\n",
      "2\n",
      "3\n",
      "4\n",
      "5\n",
      "6\n",
      "7\n",
      "8\n",
      "9\n"
     ]
    }
   ],
   "source": [
    "for i in range(0, 10):   #range(0,10) prints numbers 0-9 with including starting number and excluding ending number\n",
    "    print(i)"
   ]
  },
  {
   "cell_type": "code",
   "execution_count": 24,
   "id": "b297efad-68ea-46ca-a912-11fd53f87f93",
   "metadata": {},
   "outputs": [
    {
     "name": "stdout",
     "output_type": "stream",
     "text": [
      "0\n",
      "1\n",
      "2\n",
      "3\n",
      "4\n",
      "5\n",
      "6\n",
      "7\n",
      "8\n",
      "9\n"
     ]
    }
   ],
   "source": [
    "for i in range(0,10,1):  \n",
    "    print(i)"
   ]
  },
  {
   "cell_type": "markdown",
   "id": "e7702e15-6b09-4d08-817f-06cae519d594",
   "metadata": {},
   "source": [
    "Ques12: Write a short program that prints the numbers 1 to 10 using a for loop. Then write an equivalent\n",
    "program that prints the numbers 1 to 10 using a while loop."
   ]
  },
  {
   "cell_type": "code",
   "execution_count": 11,
   "id": "4b376d96-bd3e-4e34-9c2f-faa00c17b454",
   "metadata": {},
   "outputs": [
    {
     "name": "stdout",
     "output_type": "stream",
     "text": [
      "0\n",
      "1\n",
      "2\n",
      "3\n",
      "4\n",
      "5\n",
      "6\n",
      "7\n",
      "8\n",
      "9\n"
     ]
    }
   ],
   "source": [
    "for i in range(0 , 10 , 1):\n",
    "    print (i)"
   ]
  },
  {
   "cell_type": "code",
   "execution_count": 13,
   "id": "d9e719e0-391f-435b-b817-97c3ecb8b807",
   "metadata": {},
   "outputs": [
    {
     "name": "stdout",
     "output_type": "stream",
     "text": [
      "1\n",
      "2\n",
      "3\n",
      "4\n",
      "5\n",
      "6\n",
      "7\n",
      "8\n",
      "9\n"
     ]
    }
   ],
   "source": [
    "i=1\n",
    "while i<10:\n",
    "    print(i)\n",
    "    i=i+1"
   ]
  },
  {
   "cell_type": "markdown",
   "id": "4be4a3d5-78e4-40f8-9943-c9d9ab156a83",
   "metadata": {},
   "source": [
    "Ques13: If you had a function named bacon() inside a module named spam, how would you call it after\n",
    "importing spam?\n",
    "\n",
    "Ans:   You import the module using import spam.\n",
    "\n",
    "You call the function using dot notation: spam.bacon() — that tells Python: “Run the bacon() function that lives inside the spam module.”"
   ]
  }
 ],
 "metadata": {
  "kernelspec": {
   "display_name": "Python [conda env:base] *",
   "language": "python",
   "name": "conda-base-py"
  },
  "language_info": {
   "codemirror_mode": {
    "name": "ipython",
    "version": 3
   },
   "file_extension": ".py",
   "mimetype": "text/x-python",
   "name": "python",
   "nbconvert_exporter": "python",
   "pygments_lexer": "ipython3",
   "version": "3.12.7"
  }
 },
 "nbformat": 4,
 "nbformat_minor": 5
}
