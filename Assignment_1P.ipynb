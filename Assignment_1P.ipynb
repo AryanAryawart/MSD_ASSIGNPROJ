{
 "cells": [
  {
   "cell_type": "markdown",
   "id": "07d7514a-025b-4a36-b618-2b9d569a7664",
   "metadata": {},
   "source": [
    "  Ques1: Write a Python program to print &quot;Hello Python&quot;?\n",
    "\n",
    "  Ans:"
   ]
  },
  {
   "cell_type": "code",
   "execution_count": 3,
   "id": "04eeeae0-573a-44e3-abdd-5dacce1abc90",
   "metadata": {},
   "outputs": [
    {
     "name": "stdout",
     "output_type": "stream",
     "text": [
      "Hello Python\n"
     ]
    }
   ],
   "source": [
    "print(\"Hello Python\")"
   ]
  },
  {
   "cell_type": "markdown",
   "id": "3449049b-bd14-4e6f-8c1e-2b7648489be9",
   "metadata": {},
   "source": [
    "Ques2: Write a Python program to do arithmetical operations addition and division.?\n",
    "\n",
    "Ans:"
   ]
  },
  {
   "cell_type": "code",
   "execution_count": 12,
   "id": "efb6da83-ea9b-47fc-b4db-7f0c9c8ae6c5",
   "metadata": {},
   "outputs": [
    {
     "name": "stdin",
     "output_type": "stream",
     "text": [
      "Enter the first number: 45\n",
      "Enter the second number: 15\n"
     ]
    },
    {
     "name": "stdout",
     "output_type": "stream",
     "text": [
      "The sum of two number is {60}\n"
     ]
    }
   ],
   "source": [
    "num1=int(input(\"Enter the first number:\"))\n",
    "num2=int(input(\"Enter the second number:\"))\n",
    "add= num1+num2\n",
    "print(f\"The sum of two number is\", {add} )"
   ]
  },
  {
   "cell_type": "code",
   "execution_count": 19,
   "id": "5866cc42-b3e6-4b13-a339-e290c4801daa",
   "metadata": {},
   "outputs": [
    {
     "name": "stdin",
     "output_type": "stream",
     "text": [
      "Enter the first number: 45\n",
      "Enter the second number: 5\n"
     ]
    },
    {
     "name": "stdout",
     "output_type": "stream",
     "text": [
      " The sum of two number is {9.0}\n"
     ]
    }
   ],
   "source": [
    "num1=int(input(\"Enter the first number:\"))\n",
    "num2=int(input(\"Enter the second number:\"))\n",
    "divison= num1/num2\n",
    "print(f\" The sum of two number is\", {divison} )"
   ]
  },
  {
   "cell_type": "markdown",
   "id": "0a4f1c1b-4adb-4a39-ad35-2822e7363cce",
   "metadata": {},
   "source": [
    "Ques3: Write a Python program to find the area of a triangle?\n",
    "\n",
    "Ans:"
   ]
  },
  {
   "cell_type": "markdown",
   "id": "6fb93aaa-7958-474b-83d5-1298a272ab1c",
   "metadata": {},
   "source": [
    "import math\n",
    "s1=int(input(\"Ente the first side of triangle : \"))\n",
    "s2=int(input(\"Enter the second side of triangle : \"))\n",
    "s3=int(input(\"Enter the third side of triangle : \"))\n",
    "s= (s1+s2+s3)/2\n",
    "Area= math.sqrt(s*(s-s1)*(s-s2)*(s-s3))\n",
    "print(f\"The area of triangle is \" , {Area} )"
   ]
  },
  {
   "cell_type": "markdown",
   "id": "9ae02a06-bb3f-4164-bfe5-4fa3c8512fbf",
   "metadata": {},
   "source": [
    "Ques4: Write a Python program to swap two variables?\n",
    "\n",
    "Ans:"
   ]
  },
  {
   "cell_type": "code",
   "execution_count": 1,
   "id": "e7cd4c6b-5e80-4721-aaf0-c72415ba1785",
   "metadata": {},
   "outputs": [
    {
     "name": "stdout",
     "output_type": "stream",
     "text": [
      "a = 5\n",
      "b = 2\n"
     ]
    }
   ],
   "source": [
    "a=2\n",
    "b=5\n",
    "a=a+b\n",
    "b=a-b\n",
    "a=a-b\n",
    "print(\"a =\" ,a)\n",
    "print(\"b =\" ,b)"
   ]
  },
  {
   "cell_type": "markdown",
   "id": "2d8887cf-7b31-4a26-8f2f-e6dbc9f97a55",
   "metadata": {},
   "source": [
    "Ques5: Write a Python program to generate a random number?\n",
    "\n",
    "Ans:"
   ]
  },
  {
   "cell_type": "code",
   "execution_count": 13,
   "id": "ac7d9efe-7ab7-4328-8636-2931a0c86fc1",
   "metadata": {},
   "outputs": [
    {
     "name": "stdout",
     "output_type": "stream",
     "text": [
      "1\n"
     ]
    }
   ],
   "source": [
    "import random\n",
    "\n",
    "print(random.randint(1, 10))\n"
   ]
  },
  {
   "cell_type": "code",
   "execution_count": null,
   "id": "6a86248c-0e53-4135-afd9-ebe0e69d6e07",
   "metadata": {},
   "outputs": [],
   "source": []
  }
 ],
 "metadata": {
  "kernelspec": {
   "display_name": "Python [conda env:base] *",
   "language": "python",
   "name": "conda-base-py"
  },
  "language_info": {
   "codemirror_mode": {
    "name": "ipython",
    "version": 3
   },
   "file_extension": ".py",
   "mimetype": "text/x-python",
   "name": "python",
   "nbconvert_exporter": "python",
   "pygments_lexer": "ipython3",
   "version": "3.12.7"
  }
 },
 "nbformat": 4,
 "nbformat_minor": 5
}
